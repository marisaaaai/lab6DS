{
 "cells": [
  {
   "cell_type": "markdown",
   "id": "085aede1",
   "metadata": {},
   "source": [
    "# Laboratorio 6.\n",
    "## Análisis de Redes Sociales\n",
    "\n",
    "---\n",
    "Participantes:\n",
    "\n",
    "\n",
    "*   María Isabel Montoya Valladares 19169\n",
    "*   Luis Pedro García Salazar 19344\n",
    "* María José Morales Reichenbach 19145\n",
    "\n",
    "### Instrucciones\n",
    "Puede realizar uno de los 3 problemas que se le presentan. Debe extraer los datos de una red social del tema que escoja trabajar. Debe hacer un análisis exploratorio para entender mejor los datos. Debe descubrir patrones interesantes. Recuerde que la investigación debe ser reproducible por lo que debe guardarel código que ha utilizado para resolver los ejerciciosy/o cada uno de los pasos llevados a cabo si utiliza una herramienta visual. Este laboratorio debe realizarse en grupos de 3.Inscríbase en uno de los grupos que hay en canvas para la actividad.\n",
    "\n",
    "### Problema escogido\n",
    "<b>PROBLEMA 2.</b> Extraiga los datos relacionados con el  tráfico en la  ciudad de Guatemala, puede utilizar cualquier red social, a la que se tenga acceso, y pueden extraerse datos de varias. Por ejemplo si extrae datos de twitter podría utilizar loshashtag #TraficoGT,#TransitoGTo @amilcarmontejo. Explore los datos que  extraiga  y  descubra  conocimiento,  tendencias  y  elementos  interesantes.¿Será  que la pandemia ha ayudado a disminuir el tráfico?"
   ]
  },
  {
   "cell_type": "code",
   "execution_count": 27,
   "id": "76c5df80",
   "metadata": {},
   "outputs": [],
   "source": [
    "from config import *\n",
    "import tweepy, json\n",
    "import datetime\n",
    "import pandas as pd\n",
    "\n",
    "\n",
    "auth = tweepy.OAuthHandler(TWITTER_CONSUMER_KEY, TWITTER_CONSUMER_SECRET)\n",
    "auth.set_access_token(TWITTER_ACCESS_TOKEN, TWITTER_ACCESS_TOKEN_SECRET)\n",
    "api = tweepy.API(auth,wait_on_rate_limit=True)"
   ]
  },
  {
   "cell_type": "markdown",
   "id": "e7efb45d",
   "metadata": {},
   "source": [
    "Como queremos comparar tráfico antes de pandemia y en pandemia crearemos fechas. La pandemia inicio el 13 de marzo de 2020. Desde esa fecha hasta hoy 5 de septiembre a pasado 1 año y medio de tiempo por lo que se obtendran dos conjuntos de tweets. Uno comenzando el 13/03/2020 hasta el dia de hoy y otro comenzando 13/09/2019 hasta el 12/03/2020 para tener aproximadamente la misma cantidad de tiempo en ambos y poder hacer una compararación."
   ]
  },
  {
   "cell_type": "code",
   "execution_count": 7,
   "id": "fa426fe5",
   "metadata": {},
   "outputs": [
    {
     "data": {
      "text/plain": [
       "(datetime.datetime(2019, 9, 13, 0, 0),\n",
       " datetime.datetime(2020, 3, 12, 0, 0),\n",
       " datetime.datetime(2020, 3, 13, 0, 0),\n",
       " datetime.datetime(2021, 9, 5, 11, 28, 39, 253598))"
      ]
     },
     "execution_count": 7,
     "metadata": {},
     "output_type": "execute_result"
    }
   ],
   "source": [
    "inPrePan = datetime.datetime(2019, 9, 13)\n",
    "finPrePan = datetime.datetime(2020, 3, 12)\n",
    "inPan = datetime.datetime(2020, 3, 13)\n",
    "finPan = datetime.datetime.now()\n",
    "\n",
    "inPrePan, finPrePan, inPan, finPan"
   ]
  },
  {
   "cell_type": "markdown",
   "id": "97767c3b",
   "metadata": {},
   "source": [
    "Buscamos los tweets usando la funcion de cursos de tweepy."
   ]
  },
  {
   "cell_type": "code",
   "execution_count": 67,
   "id": "ca7d11af",
   "metadata": {},
   "outputs": [
    {
     "ename": "ValueError",
     "evalue": "time data '2020–03–12 15:51:31' does not match format '%Y-%m-%d %H:%M:%S'",
     "output_type": "error",
     "traceback": [
      "\u001b[0;31m---------------------------------------------------------------------------\u001b[0m",
      "\u001b[0;31mValueError\u001b[0m                                Traceback (most recent call last)",
      "\u001b[0;32m<ipython-input-67-0acab7dd96a2>\u001b[0m in \u001b[0;36m<module>\u001b[0;34m\u001b[0m\n\u001b[1;32m     14\u001b[0m \u001b[0;34m\u001b[0m\u001b[0m\n\u001b[1;32m     15\u001b[0m \u001b[0;31m#running search\u001b[0m\u001b[0;34m\u001b[0m\u001b[0;34m\u001b[0m\u001b[0;34m\u001b[0m\u001b[0m\n\u001b[0;32m---> 16\u001b[0;31m \u001b[0mtwint\u001b[0m\u001b[0;34m.\u001b[0m\u001b[0mrun\u001b[0m\u001b[0;34m.\u001b[0m\u001b[0mSearch\u001b[0m\u001b[0;34m(\u001b[0m\u001b[0mconfig\u001b[0m\u001b[0;34m)\u001b[0m\u001b[0;34m\u001b[0m\u001b[0;34m\u001b[0m\u001b[0m\n\u001b[0m\u001b[1;32m     17\u001b[0m \u001b[0;34m\u001b[0m\u001b[0m\n\u001b[1;32m     18\u001b[0m \u001b[0;34m\u001b[0m\u001b[0m\n",
      "\u001b[0;32m~/.local/lib/python3.6/site-packages/twint/run.py\u001b[0m in \u001b[0;36mSearch\u001b[0;34m(config, callback)\u001b[0m\n",
      "\u001b[0;32m~/.local/lib/python3.6/site-packages/twint/run.py\u001b[0m in \u001b[0;36mrun\u001b[0;34m(config, callback)\u001b[0m\n",
      "\u001b[0;32m~/.local/lib/python3.6/site-packages/twint/run.py\u001b[0m in \u001b[0;36m__init__\u001b[0;34m(self, config)\u001b[0m\n",
      "\u001b[0;32m~/.local/lib/python3.6/site-packages/twint/datelock.py\u001b[0m in \u001b[0;36mSet\u001b[0;34m(Until, Since)\u001b[0m\n",
      "\u001b[0;32m/usr/lib/python3.6/_strptime.py\u001b[0m in \u001b[0;36m_strptime_datetime\u001b[0;34m(cls, data_string, format)\u001b[0m\n\u001b[1;32m    563\u001b[0m     \"\"\"Return a class cls instance based on the input string and the\n\u001b[1;32m    564\u001b[0m     format string.\"\"\"\n\u001b[0;32m--> 565\u001b[0;31m     \u001b[0mtt\u001b[0m\u001b[0;34m,\u001b[0m \u001b[0mfraction\u001b[0m \u001b[0;34m=\u001b[0m \u001b[0m_strptime\u001b[0m\u001b[0;34m(\u001b[0m\u001b[0mdata_string\u001b[0m\u001b[0;34m,\u001b[0m \u001b[0mformat\u001b[0m\u001b[0;34m)\u001b[0m\u001b[0;34m\u001b[0m\u001b[0;34m\u001b[0m\u001b[0m\n\u001b[0m\u001b[1;32m    566\u001b[0m     \u001b[0mtzname\u001b[0m\u001b[0;34m,\u001b[0m \u001b[0mgmtoff\u001b[0m \u001b[0;34m=\u001b[0m \u001b[0mtt\u001b[0m\u001b[0;34m[\u001b[0m\u001b[0;34m-\u001b[0m\u001b[0;36m2\u001b[0m\u001b[0;34m:\u001b[0m\u001b[0;34m]\u001b[0m\u001b[0;34m\u001b[0m\u001b[0;34m\u001b[0m\u001b[0m\n\u001b[1;32m    567\u001b[0m     \u001b[0margs\u001b[0m \u001b[0;34m=\u001b[0m \u001b[0mtt\u001b[0m\u001b[0;34m[\u001b[0m\u001b[0;34m:\u001b[0m\u001b[0;36m6\u001b[0m\u001b[0;34m]\u001b[0m \u001b[0;34m+\u001b[0m \u001b[0;34m(\u001b[0m\u001b[0mfraction\u001b[0m\u001b[0;34m,\u001b[0m\u001b[0;34m)\u001b[0m\u001b[0;34m\u001b[0m\u001b[0;34m\u001b[0m\u001b[0m\n",
      "\u001b[0;32m/usr/lib/python3.6/_strptime.py\u001b[0m in \u001b[0;36m_strptime\u001b[0;34m(data_string, format)\u001b[0m\n\u001b[1;32m    360\u001b[0m     \u001b[0;32mif\u001b[0m \u001b[0;32mnot\u001b[0m \u001b[0mfound\u001b[0m\u001b[0;34m:\u001b[0m\u001b[0;34m\u001b[0m\u001b[0;34m\u001b[0m\u001b[0m\n\u001b[1;32m    361\u001b[0m         raise ValueError(\"time data %r does not match format %r\" %\n\u001b[0;32m--> 362\u001b[0;31m                          (data_string, format))\n\u001b[0m\u001b[1;32m    363\u001b[0m     \u001b[0;32mif\u001b[0m \u001b[0mlen\u001b[0m\u001b[0;34m(\u001b[0m\u001b[0mdata_string\u001b[0m\u001b[0;34m)\u001b[0m \u001b[0;34m!=\u001b[0m \u001b[0mfound\u001b[0m\u001b[0;34m.\u001b[0m\u001b[0mend\u001b[0m\u001b[0;34m(\u001b[0m\u001b[0;34m)\u001b[0m\u001b[0;34m:\u001b[0m\u001b[0;34m\u001b[0m\u001b[0;34m\u001b[0m\u001b[0m\n\u001b[1;32m    364\u001b[0m         raise ValueError(\"unconverted data remains: %s\" %\n",
      "\u001b[0;31mValueError\u001b[0m: time data '2020–03–12 15:51:31' does not match format '%Y-%m-%d %H:%M:%S'"
     ]
    }
   ],
   "source": [
    "import twint\n",
    "#print(twint.__version__)\n",
    "\n",
    "#configuration\n",
    "config = twint.Config()\n",
    "config.Search = \"#TraficoGT\"\n",
    "config.Lang = \"es\"\n",
    "config.Limit = 100\n",
    "config.Store_csv= True\n",
    "config.Since = \"2019–09–13 15:51:31\"\n",
    "config.Until = \"2020–03–12 15:51:31\"\n",
    "config.Output = \"custom_out.csv\"\n",
    "\n",
    "\n",
    "#running search\n",
    "twint.run.Search(config)\n",
    "\n",
    "\n",
    "#data = [[tweet.id, tweet.created_at, tweet.text] for tweet in tweets]\n",
    "#df2 = pd.DataFrame(data=data, columns=['id', 'date', 'user', 'tweet_text'])\n",
    "#print(json.dumps(tweet._json, indent=2))\n",
    "\n",
    "\n",
    "\n",
    "#stream.filter(languages=[\"es\"], track=[\"#traficoGT\", \"#transitoGT\", \"#TraficoGT\", \"#TransitoGT\"], since=inPrePan) \n",
    "#n=0\n",
    "#while n<10:\n",
    "#    for i in stream:\n",
    "#        print(i)\n",
    "#        n+=1"
   ]
  },
  {
   "cell_type": "code",
   "execution_count": 69,
   "id": "0d5631c9",
   "metadata": {},
   "outputs": [
    {
     "ename": "ModuleNotFoundError",
     "evalue": "No module named 'GetOldTweets3'",
     "output_type": "error",
     "traceback": [
      "\u001b[0;31m---------------------------------------------------------------------------\u001b[0m",
      "\u001b[0;31mModuleNotFoundError\u001b[0m                       Traceback (most recent call last)",
      "\u001b[0;32m<ipython-input-69-8da4376ca8ec>\u001b[0m in \u001b[0;36m<module>\u001b[0;34m\u001b[0m\n\u001b[0;32m----> 1\u001b[0;31m \u001b[0;32mimport\u001b[0m \u001b[0mGetOldTweets3\u001b[0m \u001b[0;32mas\u001b[0m \u001b[0mgot\u001b[0m\u001b[0;34m\u001b[0m\u001b[0;34m\u001b[0m\u001b[0m\n\u001b[0m\u001b[1;32m      2\u001b[0m \u001b[0mtweetCriteria\u001b[0m \u001b[0;34m=\u001b[0m \u001b[0mgot\u001b[0m\u001b[0;34m.\u001b[0m\u001b[0mmanager\u001b[0m\u001b[0;34m.\u001b[0m\u001b[0mTweetCriteria\u001b[0m\u001b[0;34m(\u001b[0m\u001b[0;34m)\u001b[0m\u001b[0;34m.\u001b[0m\u001b[0msetQuerySearch\u001b[0m\u001b[0;34m(\u001b[0m\u001b[0;34m'#TraficoGT'\u001b[0m\u001b[0;34m)\u001b[0m\u001b[0;31m\\\u001b[0m\u001b[0;34m\u001b[0m\u001b[0;34m\u001b[0m\u001b[0m\n\u001b[1;32m      3\u001b[0m                                            \u001b[0;34m.\u001b[0m\u001b[0msetSince\u001b[0m\u001b[0;34m(\u001b[0m\u001b[0;34m\"2019-09-13\"\u001b[0m\u001b[0;34m)\u001b[0m\u001b[0;31m\\\u001b[0m\u001b[0;34m\u001b[0m\u001b[0;34m\u001b[0m\u001b[0m\n\u001b[1;32m      4\u001b[0m                                            \u001b[0;34m.\u001b[0m\u001b[0msetUntil\u001b[0m\u001b[0;34m(\u001b[0m\u001b[0;34m\"2020-03-12\"\u001b[0m\u001b[0;34m)\u001b[0m\u001b[0;31m\\\u001b[0m\u001b[0;34m\u001b[0m\u001b[0;34m\u001b[0m\u001b[0m\n\u001b[1;32m      5\u001b[0m                                            \u001b[0;34m.\u001b[0m\u001b[0msetMaxTweets\u001b[0m\u001b[0;34m(\u001b[0m\u001b[0;36m1\u001b[0m\u001b[0;34m)\u001b[0m\u001b[0;34m\u001b[0m\u001b[0;34m\u001b[0m\u001b[0m\n",
      "\u001b[0;31mModuleNotFoundError\u001b[0m: No module named 'GetOldTweets3'"
     ]
    }
   ],
   "source": [
    "import GetOldTweets3 as got\n",
    "tweetCriteria = got.manager.TweetCriteria().setQuerySearch('#TraficoGT')\\\n",
    "                                           .setSince(\"2019-09-13\")\\\n",
    "                                           .setUntil(\"2020-03-12\")\\\n",
    "                                           .setMaxTweets(1)\n",
    "tweet = got.manager.TweetManager.getTweets(tweetCriteria)[0]\n",
    "print(tweet.text)"
   ]
  }
 ],
 "metadata": {
  "kernelspec": {
   "display_name": "Python 3",
   "language": "python",
   "name": "python3"
  },
  "language_info": {
   "codemirror_mode": {
    "name": "ipython",
    "version": 3
   },
   "file_extension": ".py",
   "mimetype": "text/x-python",
   "name": "python",
   "nbconvert_exporter": "python",
   "pygments_lexer": "ipython3",
   "version": "3.6.9"
  }
 },
 "nbformat": 4,
 "nbformat_minor": 5
}
